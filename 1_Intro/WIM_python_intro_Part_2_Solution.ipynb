{
 "cells": [
  {
   "cell_type": "markdown",
   "id": "0bbd63be",
   "metadata": {},
   "source": [
    "# WIM Python Workshop: Introduction to Python\n",
    "## Part II: Organizing Data\n",
    "* Date: Oct 20th, 2023\n",
    "* Instructors: Eehyun Kim (eehkim@iu.edu), Anne Kavalerchik (akavaler@iu.edu)"
   ]
  },
  {
   "cell_type": "markdown",
   "id": "109aac80",
   "metadata": {},
   "source": [
    "First, we load the necessary packages"
   ]
  },
  {
   "cell_type": "code",
   "execution_count": null,
   "id": "af7ca70a",
   "metadata": {},
   "outputs": [],
   "source": [
    "# load the necessary packages\n",
    "import os\n",
    "import json\n",
    "import pandas as pd  # data analysis package\n",
    "import pickle  # Python specific module to serialize data"
   ]
  },
  {
   "cell_type": "markdown",
   "id": "e082a121",
   "metadata": {},
   "source": [
    "Ordinarily, you might have to install packages like `pandas`, but we have preloaded this environment so that it is already installed, and only needs to be loaded.\n",
    "\n",
    "To install `pandas` (or other packages) on your local machine:\n",
    "\n",
    "Go to terminal/control panel\n",
    "type `pip3 install pandas` and press enter"
   ]
  },
  {
   "cell_type": "markdown",
   "id": "ed8ef3b1",
   "metadata": {},
   "source": [
    "## Load the data\n",
    "\n",
    "In Python, we can work with multiple datasets at the same time."
   ]
  },
  {
   "cell_type": "code",
   "execution_count": null,
   "id": "12f6e725",
   "metadata": {},
   "outputs": [],
   "source": [
    "# load the dataframe of members of the House of Representatives\n",
    "# we will use pandas read_csv\n",
    "\n",
    "congress_df = pd.read_csv('congress_house.csv')\n",
    "print(congress_df.shape)  # tells you the dimensions\n",
    "congress_df  # prints out a subset of the dataframe"
   ]
  },
  {
   "cell_type": "code",
   "execution_count": null,
   "id": "04bf61a1",
   "metadata": {},
   "outputs": [],
   "source": [
    "# load the bills \"pickle\" file\n",
    "# pickle is a python module for storing data\n",
    "# we will open it with the following command.\n",
    "# \"rb\" tells python we are opening it for reading only in a binary format\n",
    "with open('ProPublica_Members-Bills.pkl', \"rb\") as file:\n",
    "    bills_1000 = pickle.load(file)"
   ]
  },
  {
   "cell_type": "markdown",
   "id": "aca6f141",
   "metadata": {},
   "source": [
    "## Explore the congress dataset using pandas\n",
    "\n",
    "`pandas` is an extremely powerful python data analysis package\n",
    "\n",
    "We will only use a few of its functionalities today\n"
   ]
  },
  {
   "cell_type": "code",
   "execution_count": null,
   "id": "42d6847f",
   "metadata": {},
   "outputs": [],
   "source": [
    "# using pandas methods\n",
    "print(congress_df.info())  # overview of the dataframe, missingness, and types of variables\n",
    "print(congress_df.describe())  # describes basic summary statistics for each column\n",
    "\n",
    "print(congress_df.head(3))  # returns first 3 rows\n",
    "print(congress_df.tail(3))  # returns last 3 rows\n",
    "\n",
    "print(congress_df['id'])  # returns \"id\" column as a pandas series\n",
    "print(congress_df[['id']])  # returns \"id\" column as a pandas dataframe\n",
    "\n",
    "print(congress_df.iloc[37:53])  # returns rows 37-53"
   ]
  },
  {
   "cell_type": "markdown",
   "id": "6e3f39f6",
   "metadata": {},
   "source": [
    "## Explore the bills dataset using basics to from part 1 to call values\n",
    "\n",
    "`bills_1000` is the most recent 1000 health bills, and it is extremely nested"
   ]
  },
  {
   "cell_type": "code",
   "execution_count": null,
   "id": "34b4db18",
   "metadata": {},
   "outputs": [],
   "source": [
    "# explore bills dataset\n",
    "# bills_1000 is basically a list of 50 dictionaries\n",
    "print(len(bills_1000))  # Tells us the length - 50\n",
    "\n",
    "print(type(bills_1000))  # DefaultDict - similar to a dictionary\n",
    "print(bills_1000.keys())  # Prints the keys of the dictionary\n",
    "print(type(bills_1000[0]))  # Dictionary\n",
    "print(bills_1000[0])  # Prints the value for dictionary key 0 of bills_1000 \n",
    "print(bills_1000[0].keys())  # Prints the keys of the dictionary\n"
   ]
  },
  {
   "cell_type": "markdown",
   "id": "ddeec6be",
   "metadata": {},
   "source": [
    "It may be helpful to look at an entry visually to understand the nestedness."
   ]
  },
  {
   "cell_type": "code",
   "execution_count": null,
   "id": "32404d24",
   "metadata": {},
   "outputs": [],
   "source": [
    "bills_1000[0]"
   ]
  },
  {
   "cell_type": "markdown",
   "id": "378ff8c3",
   "metadata": {},
   "source": [
    "So, `bills_1000[0]` is a dictionary, where the value of the key `results` is a list of dictionaries for every bill, and every dictionary in that list is a key-value pair, and each of those key-value pairs gives some descriptive detail about the bill."
   ]
  },
  {
   "cell_type": "markdown",
   "id": "2991842f",
   "metadata": {},
   "source": [
    "Let's practice calling specific values of this dictionary of the first 20 bills"
   ]
  },
  {
   "cell_type": "code",
   "execution_count": null,
   "id": "4338dd14",
   "metadata": {},
   "outputs": [],
   "source": [
    "# let's practice calling specific values of these first 20 bills\n",
    "# print out the values \n",
    "print(bills_1000[0]['status'])\n",
    "print(bills_1000[0]['copyright'])\n",
    "print(bills_1000[0]['offset'])\n",
    "print(bills_1000[0]['subject'])\n",
    "print(bills_1000[0]['results'])"
   ]
  },
  {
   "cell_type": "code",
   "execution_count": null,
   "id": "d058ffd5",
   "metadata": {},
   "outputs": [],
   "source": [
    "print(len(bills_1000[0]['results']))  # length is 20 - 20 bills\n",
    "print(bills_1000[0]['results'][0])  # the first bill\n",
    "print(type(bills_1000[0]['results'][0]))  # dictionary"
   ]
  },
  {
   "cell_type": "code",
   "execution_count": null,
   "id": "a73f97c4",
   "metadata": {},
   "outputs": [],
   "source": [
    "print(bills_1000[0]['results'][0]['bill_id'])  # bill id\n",
    "print(bills_1000[0]['results'][0]['title'])  # title\n",
    "print(bills_1000[0]['results'][0]['sponsor_id'])  # sponsor id"
   ]
  },
  {
   "cell_type": "code",
   "execution_count": null,
   "id": "054cc233",
   "metadata": {},
   "outputs": [],
   "source": [
    "print(bills_1000[43]['results'][15]['bill_id'])\n",
    "print(bills_1000[42]['results'][9]['sponsor_name'])"
   ]
  },
  {
   "cell_type": "markdown",
   "id": "6aef9c45",
   "metadata": {},
   "source": [
    "Note: What happens if we call a value that does not exist?\n",
    "\n",
    "`KeyError` - when a dictionary key does not exist\n",
    "\n",
    "`IndexError` - when a sequence subscript is out of range"
   ]
  },
  {
   "cell_type": "code",
   "execution_count": null,
   "id": "bef52fc4",
   "metadata": {},
   "outputs": [],
   "source": [
    "print(bills_1000[50]['results'][0]['sponsor_name'])  # Key Error"
   ]
  },
  {
   "cell_type": "code",
   "execution_count": null,
   "id": "4a449094",
   "metadata": {},
   "outputs": [],
   "source": [
    "print(bills_1000[49]['results'][20]['sponsor_name'])  # IndexError "
   ]
  },
  {
   "cell_type": "markdown",
   "id": "953a5bc8",
   "metadata": {},
   "source": [
    "You can avoid these using a `try - except` clause:"
   ]
  },
  {
   "cell_type": "code",
   "execution_count": null,
   "id": "a7d46d51",
   "metadata": {},
   "outputs": [],
   "source": [
    "try:\n",
    "    print(bills_1000[50]['results'][0]['sponsor_name'])\n",
    "except KeyError:\n",
    "    print('KeyError')\n",
    "\n",
    "try:\n",
    "    print(bills_1000[49]['results'][20]['sponsor_name'])\n",
    "except IndexError:\n",
    "    print('IndexError')\n"
   ]
  },
  {
   "cell_type": "markdown",
   "id": "4df65cc1",
   "metadata": {},
   "source": [
    "Use nested `for` loops to navigate `bills_1000`\n",
    "\n",
    "For loops are not always the most elegant solution, but they are very useful"
   ]
  },
  {
   "cell_type": "code",
   "execution_count": null,
   "id": "48b924cc",
   "metadata": {},
   "outputs": [],
   "source": [
    "# experiment with for loops here\n",
    "all_pols = []  # initializing an empty list\n",
    "for entry in bills_1000:  # Loop through each of the 50 dictionaries\n",
    "    results = bills_1000[entry]['results']\n",
    "\n",
    "    # Then loop thru each of the 20 dictionaries that belong to those entries\n",
    "    for result in results:\n",
    "        all_pols.append(result['sponsor_name'])  # appending the sponsor name on each bill to a list\n",
    "\n",
    "print(len(all_pols))  # 1000\n",
    "# print(all_pols)"
   ]
  },
  {
   "cell_type": "code",
   "execution_count": null,
   "id": "afe02a8a",
   "metadata": {},
   "outputs": [],
   "source": [
    "for entry in bills_1000:\n",
    "    results = bills_1000[entry]['results']\n",
    "\n",
    "all_pols = []\n",
    "for result in results:\n",
    "    all_pols.append(result['sponsor_name'])\n",
    "all_pols    "
   ]
  },
  {
   "cell_type": "markdown",
   "id": "50f5f269",
   "metadata": {},
   "source": [
    "Note: Sometimes your code can get _too_ nested. This can be bad for readability.\n",
    "\n",
    "There are several ways around this: list/dict comprehension, functions, and more"
   ]
  },
  {
   "cell_type": "markdown",
   "id": "4b45c473",
   "metadata": {},
   "source": [
    "List comprehension:"
   ]
  },
  {
   "cell_type": "code",
   "execution_count": null,
   "id": "6ebd9fde",
   "metadata": {},
   "outputs": [],
   "source": [
    "all_pols_1 = [bills_1000[entry]['results'] for entry in bills_1000]\n",
    "all_pols_2 = [result[i]['sponsor_name'] for result in all_pols_1 for i in range(0, 20)]\n",
    "all_pols_2==all_pols  # True"
   ]
  },
  {
   "cell_type": "markdown",
   "id": "58cd61b1",
   "metadata": {},
   "source": [
    "## __Count__ the number of bills passed by each politician\n",
    "\n",
    "What we really want,  is to combine `bills_1000` with `congress_df` in some useful way\n",
    "\n",
    "`id` in `congress_df` is linked to `sponsor_id` in `bills_1000`\n",
    "\n",
    "We will do this with nested loops again!"
   ]
  },
  {
   "cell_type": "code",
   "execution_count": null,
   "id": "f202ff80",
   "metadata": {},
   "outputs": [],
   "source": [
    "# initialize a dictionary with every key a congressperson's id,\n",
    "# and every value = 0\n",
    "num_bills = {}\n",
    "for i in congress_df['id']:\n",
    "    num_bills[i] = 0\n",
    "\n",
    "# loop through the data and count every bill\n",
    "for entry in bills_1000:\n",
    "    results = bills_1000[entry]['results']\n",
    "    for result in results:\n",
    "        num_bills[result['sponsor_id']] += 1"
   ]
  },
  {
   "cell_type": "markdown",
   "id": "f4c3cb5e",
   "metadata": {},
   "source": [
    "Need to account for senators! Adding a `try-except` clause:"
   ]
  },
  {
   "cell_type": "code",
   "execution_count": null,
   "id": "db0c88e7",
   "metadata": {},
   "outputs": [],
   "source": [
    "# add a try...except to account for senators!\n",
    "senators = {}\n",
    "num_bills = {}\n",
    "for i in congress_df['id']:\n",
    "    num_bills[i] = 0\n",
    "\n",
    "for entry in bills_1000:\n",
    "    \n",
    "    results = bills_1000[entry]['results']\n",
    "\n",
    "    for result in results:\n",
    "        try:\n",
    "            num_bills[result['sponsor_id']] += 1\n",
    "        except KeyError:\n",
    "            senators[result['sponsor_id']] = result['sponsor_name']            "
   ]
  },
  {
   "cell_type": "markdown",
   "id": "48b0388b",
   "metadata": {},
   "source": [
    "## Use pandas to combine the two data sets\n",
    "\n",
    "Remember, `id` in the congress data, corresponds to `sponsor_id` in the bills data"
   ]
  },
  {
   "cell_type": "code",
   "execution_count": null,
   "id": "46baefc1",
   "metadata": {},
   "outputs": [],
   "source": [
    "num_bills_df = pd.DataFrame(num_bills.items(),\n",
    "                            columns=['sponsor_id', 'num_bills'])"
   ]
  },
  {
   "cell_type": "markdown",
   "id": "1c49a40b",
   "metadata": {},
   "source": [
    "Can also initialize a dataframe this way:"
   ]
  },
  {
   "cell_type": "code",
   "execution_count": null,
   "id": "636c2eaf",
   "metadata": {},
   "outputs": [],
   "source": [
    "num_bills_df = pd.DataFrame.from_dict(num_bills, orient='index').reset_index()\n",
    "num_bills_df.columns = ['sponsor_id', 'num_bills']\n",
    "num_bills_df"
   ]
  },
  {
   "cell_type": "markdown",
   "id": "41b854ab",
   "metadata": {},
   "source": [
    "Pull out the columns we're interested in:"
   ]
  },
  {
   "cell_type": "code",
   "execution_count": null,
   "id": "3e599ee1",
   "metadata": {},
   "outputs": [],
   "source": [
    "congress_df.columns\n",
    "cols = ['id', 'short_title', 'first_name', 'last_name', 'party', 'gender']"
   ]
  },
  {
   "cell_type": "code",
   "execution_count": null,
   "id": "f422af86",
   "metadata": {},
   "outputs": [],
   "source": [
    "final_df = pd.merge(congress_df[cols], num_bills_df, left_on='id',\n",
    "                    right_on='sponsor_id')\n",
    "final_df"
   ]
  },
  {
   "cell_type": "code",
   "execution_count": null,
   "id": "8fc5a02f",
   "metadata": {},
   "outputs": [],
   "source": [
    "print('Republicans:', final_df[final_df.party=='R'].num_bills.sum())\n",
    "print('Democrats:', final_df[final_df.party=='D'].num_bills.sum())"
   ]
  },
  {
   "cell_type": "code",
   "execution_count": null,
   "id": "2a16be04",
   "metadata": {},
   "outputs": [],
   "source": [
    "final_df.sort_values('num_bills', ascending=False)"
   ]
  },
  {
   "cell_type": "code",
   "execution_count": null,
   "id": "03cf32c9",
   "metadata": {},
   "outputs": [],
   "source": [
    "# export into a csv file\n",
    "final_df.to_csv('reps_with_num_bills.csv', index=False)"
   ]
  }
 ],
 "metadata": {
  "kernelspec": {
   "display_name": "Python 3",
   "language": "python",
   "name": "python3"
  },
  "language_info": {
   "codemirror_mode": {
    "name": "ipython",
    "version": 3
   },
   "file_extension": ".py",
   "mimetype": "text/x-python",
   "name": "python",
   "nbconvert_exporter": "python",
   "pygments_lexer": "ipython3",
   "version": "3.7.7"
  }
 },
 "nbformat": 4,
 "nbformat_minor": 5
}
