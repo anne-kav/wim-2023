{
 "cells": [
  {
   "cell_type": "markdown",
   "id": "fe5508df",
   "metadata": {},
   "source": [
    "# WIM Python Workshop: Introduction to Python\n",
    "\n",
    "* Date: Oct 20th, 2023\n",
    "* Instructor: Eehyun Kim (eehkim@iu.edu), Anne Kavalerchik (akavaler@iu.edu)\n",
    "\n",
    "## 1. Writing Your First Python Program\n",
    "\n",
    "Let's start by creating a simple \"Hello, World!\" program! You can run the codes in a cell by clicking \"|> Run\", \"Command + Enter/Return\" (Mac), or \"Ctrl + Enter\" (Window).\n"
   ]
  },
  {
   "cell_type": "code",
   "execution_count": null,
   "id": "9c958a27",
   "metadata": {},
   "outputs": [],
   "source": [
    "\n",
    "\n"
   ]
  },
  {
   "cell_type": "markdown",
   "id": "e494cc13",
   "metadata": {},
   "source": [
    "### Exercise 1. Print your name."
   ]
  },
  {
   "cell_type": "code",
   "execution_count": null,
   "id": "d84df1c5",
   "metadata": {},
   "outputs": [],
   "source": [
    "\n",
    "\n",
    "\n"
   ]
  },
  {
   "cell_type": "markdown",
   "id": "8b31d417",
   "metadata": {},
   "source": [
    "## 2. Variables and Data Types\n",
    "Python supports various data types, including:\n",
    "\n",
    "* int: Integers (e.g., 5, -10)\n",
    "* float: Floating-point numbers (e.g., 3.14, -0.5)\n",
    "* str: Strings (e.g., \"Hello, World!\")\n",
    "* bool: Booleans (True or False)"
   ]
  },
  {
   "cell_type": "code",
   "execution_count": null,
   "id": "9c26082e",
   "metadata": {},
   "outputs": [],
   "source": [
    "a = 398502\n",
    "b = \"I need more coffee.\"\n",
    "c = True\n",
    "d = 50.4972"
   ]
  },
  {
   "cell_type": "markdown",
   "id": "6284aed3",
   "metadata": {},
   "source": [
    "### Exercise 2. What are their types? Explore more."
   ]
  },
  {
   "cell_type": "code",
   "execution_count": null,
   "id": "7f097380",
   "metadata": {
    "scrolled": false
   },
   "outputs": [],
   "source": [
    "a = int(\"10.0\")"
   ]
  },
  {
   "cell_type": "markdown",
   "id": "b299f9a7",
   "metadata": {},
   "source": [
    "\"Oh, ValueError: invalid literal for int() with base 10: '10.0' happens! How can I deal with it?\""
   ]
  },
  {
   "cell_type": "code",
   "execution_count": null,
   "id": "f5a35d58",
   "metadata": {
    "scrolled": true
   },
   "outputs": [],
   "source": [
    "a = int(float(\"10.0\"))\n",
    "print(int(float(\"10.5\"))) # enforcing float into integer\n",
    "\n",
    "c = str(10)\n",
    "d = None\n",
    "\n",
    "\n",
    "\n",
    "\n"
   ]
  },
  {
   "cell_type": "markdown",
   "id": "c8b7c127",
   "metadata": {},
   "source": [
    "## 3. Basic Operations: Utilizing data types\n",
    "Python allows you to perform various operations, such as arithmetic, string manipulation, and comparisons.\n",
    "\n",
    "* Arithmetic: result = 5 + 4 + 2.4, 8 * 7, 8 % 5, 8 // 5\n",
    "* String concatenation: full_name = \"Taylor\" + \" \" + \"Swift\"\n",
    "* Comparison: 1990 == 1995, 1995 >= 2006, \"Taylor\" == \"taylor\""
   ]
  },
  {
   "cell_type": "code",
   "execution_count": null,
   "id": "f2a338c0",
   "metadata": {
    "scrolled": true
   },
   "outputs": [],
   "source": [
    "# Arithmetic\n",
    "print(\"5 + 4 + 2.4 =\", 5 + 4 + 2.4)\n",
    "print(\"8 * 7 =\", 8 * 7)\n",
    "print(\"8 * 7 =\", 8 * 7)\n",
    "print(\"8 % 7 =\", 8 % 5)\n",
    "print(\"8 // 7 =\", 8 // 5)\n",
    "print(\"\")\n",
    "\n",
    "# Comparison\n",
    "print(\"Taylor\" + \" \" + \"Swift\")\n",
    "print(\"1990 == 1995:\", 1990 == 1995)\n",
    "print(\"\\\"Taylor\\\" == \\\"taylor\\\":\", \"Taylor\" == \"taylor\")\n",
    "print(\"\\\"Bois\\\" in \\\"W. E. B Du Bois\\\":\", \"Bois\" in \"W. E. B Du Bois\")"
   ]
  },
  {
   "cell_type": "markdown",
   "id": "cb3fab27",
   "metadata": {},
   "source": [
    "## 4. More data types\n",
    "\n",
    "### List\n",
    "Lists are ordered collections of items enclosed in square brackets [ ]. They can hold elements of different data types.\n",
    "\n",
    "* fruits = [\"apple\", \"banana\", \"cherry\"]\n",
    "* row = [\"Amy\", 25, \"student\", \"US\", 5.5]\n",
    "\n",
    "### Dictionary (dict)\n",
    "\n",
    "Dictionaries are collections of key-value pairs enclosed in curly braces { }. They are used for mapping keys to values and are unordered.\n",
    "\n",
    "* respondent = {\"name\": \"Amy\", \"age\": 25, \"job\": \"student\", \"citizenship\": \"US\", \"height\": 5.5}"
   ]
  },
  {
   "cell_type": "code",
   "execution_count": null,
   "id": "72985f69",
   "metadata": {},
   "outputs": [],
   "source": [
    "fruits = [\"apple\", \"banana\", \"cherry\"]\n",
    "row = [\"Amy\", 25, \"student\", \"US\", 5.5]\n",
    "respondent = {\"name\": \"Amy\", \"age\": 25, \"job\": \"student\", \"citizenship\": \"US\", \"height\": 5.5}\n",
    "\n",
    "print(respondent.keys())\n",
    "print(respondent.values())\n",
    "print(respondent[\"name\"])\n",
    "\n",
    "\n",
    "\n"
   ]
  },
  {
   "cell_type": "markdown",
   "id": "7d9a2bb0",
   "metadata": {},
   "source": [
    "## 5. Conditional Statements\n",
    "You can use if, elif, and else statements for decision-making. Don't forget to put ':' to indicate the end of the statement."
   ]
  },
  {
   "cell_type": "markdown",
   "id": "4e080574",
   "metadata": {},
   "source": [
    "### Tip. Indentation (four spaces, or tab)\n",
    "indentation is a fundamental aspect of the language's syntax and is used to define blocks of code. Python relies on consistent and meaningful indentation to indicate the grouping and nesting of statements within functions, loops, conditionals, and other control structures. If you don't keep the rule, \"IndentationError: unexpected indent\" happens."
   ]
  },
  {
   "cell_type": "code",
   "execution_count": null,
   "id": "edc9ad7b",
   "metadata": {},
   "outputs": [],
   "source": [
    "text = \"Indentation matters!\"\n",
    "    print(text)\n"
   ]
  },
  {
   "cell_type": "code",
   "execution_count": null,
   "id": "617b6e46",
   "metadata": {},
   "outputs": [],
   "source": [
    "# Let's move forward to Conditional Statements. Determine what grade would be granted based on the given score.\n",
    "\n",
    "score = 85\n",
    "\n",
    "\n",
    "\n",
    "\n",
    "\n",
    "\n",
    "\n",
    "\n"
   ]
  },
  {
   "cell_type": "markdown",
   "id": "565d6096",
   "metadata": {},
   "source": [
    "### Another example: Drinking age"
   ]
  },
  {
   "cell_type": "code",
   "execution_count": null,
   "id": "ec5e18ef",
   "metadata": {},
   "outputs": [],
   "source": [
    "user_age = int(input(\"Enter your height (in feet): \"))\n",
    "\n",
    "# Define the legal drinking age in Indiana\n",
    "legal_drinking_age = 21\n",
    "\n",
    "# Check if the user is of legal drinking age\n",
    "\n",
    "\n",
    "\n",
    "\n",
    "\n"
   ]
  },
  {
   "cell_type": "markdown",
   "id": "ce755791",
   "metadata": {},
   "source": [
    "### Exercise 3: Rollercoaster Height Restriction\n",
    "We'll write a Python program that checks if a person meets the height requirement to ride a rollercoaster. Replace the line [] to complete the code."
   ]
  },
  {
   "cell_type": "code",
   "execution_count": null,
   "id": "fdb073dc",
   "metadata": {},
   "outputs": [],
   "source": [
    "# Get the user's height as input (in feet)\n",
    "user_height = float(input(\"Enter your height (in feet): \"))\n",
    "\n",
    "# Define the minimum height requirement for the rollercoaster\n",
    "min_height_requirement = 4.0\n",
    "\n",
    "# Check if the user meets the height requirement\n",
    "\n",
    "\n",
    "\n",
    "\n",
    "\n",
    "\n"
   ]
  },
  {
   "cell_type": "markdown",
   "id": "7f672453",
   "metadata": {},
   "source": [
    "## 6. Loops (for)\n",
    "A loop is a concept that allows you to execute a block of code repeatedly. Python supports for and while loops for repetition, but we will focus on 'for', which is commonly used to iterate over sequences like lists, strings, and ranges.\n"
   ]
  },
  {
   "cell_type": "code",
   "execution_count": null,
   "id": "78c6ec40",
   "metadata": {},
   "outputs": [],
   "source": [
    "afc_teams_north = [\"Baltimore Ravens, Cincinnati Bengals, Cleveland Browns, Pittsburgh Steelers\"]\n",
    "\n",
    "\n",
    "\n",
    "\n",
    "\n",
    "\n",
    "    \n",
    "# the naming of the element doesn't matter for loops"
   ]
  },
  {
   "cell_type": "markdown",
   "id": "2bb1de89",
   "metadata": {},
   "source": [
    "### Example:\n",
    "How can you iterate from 1 to 10?\n",
    "***\n",
    "****Number 1.****\n",
    "\n",
    "    for a in [1, 2, 3, 4, 5, 6, 7, 8, 9, 10]:\n",
    "        print(a)\n",
    "\n",
    "****Number 2.****\n",
    "\n",
    "    for a in range(1, 10+1): # start=1, end=11; start <= number < end\n",
    "        print(a)\n",
    "\n",
    "****Number 3.****\n",
    "\n",
    "    for a in range(10): # start=0, end=10; start <= number < end\n",
    "        print(a+1)\n",
    "        \n",
    "****Number 4.****\n",
    "[Advanced] List comprehension: \n",
    "\n",
    "    [a+1 for a in range(10)]"
   ]
  },
  {
   "cell_type": "code",
   "execution_count": null,
   "id": "f9e9382c",
   "metadata": {},
   "outputs": [],
   "source": [
    "for a in range(1, 10+1):\n",
    "    print(a)"
   ]
  },
  {
   "cell_type": "code",
   "execution_count": null,
   "id": "c9700e32",
   "metadata": {},
   "outputs": [],
   "source": [
    "for a in range(10): # start=0, end=10; start <= number < end\n",
    "    print(a+1)"
   ]
  },
  {
   "cell_type": "code",
   "execution_count": null,
   "id": "bc16960f",
   "metadata": {},
   "outputs": [],
   "source": [
    "[a+1 for a in range(10)]"
   ]
  },
  {
   "cell_type": "code",
   "execution_count": null,
   "id": "c294785a",
   "metadata": {},
   "outputs": [],
   "source": [
    "print(\"Printing every third number from a list of numbers:\")\n",
    "\n",
    "\n",
    "\n",
    "\n",
    "\n",
    "print(\"\\nPrinting every fourth number from a list of numbers:\")\n",
    "\n",
    "\n",
    "\n"
   ]
  },
  {
   "cell_type": "markdown",
   "id": "51ca12f2",
   "metadata": {},
   "source": [
    "### Exercise 4: Defining Your Favorite Movies and Printing Them\n",
    "We'll list your favorite movies (at least three) and print them one by one."
   ]
  },
  {
   "cell_type": "code",
   "execution_count": null,
   "id": "12341288",
   "metadata": {},
   "outputs": [],
   "source": [
    "#favorite_movies = [\"The Shawshank Redemption\", \"The Godfather\"]\n",
    "favorite_movies = []\n",
    "\n",
    "print(\"My Favorite Movies:\")\n",
    "\n",
    "\n",
    "\n",
    "\n",
    "\n"
   ]
  },
  {
   "cell_type": "markdown",
   "id": "86b092c1",
   "metadata": {},
   "source": [
    "## 7. Further Exploration: List manipuation\n",
    "\n",
    "### List Length\n",
    "The length of a list is the number of elements it contains. To find the length of a list, you can use the len() function.\n",
    "* length = len(my_list)\n",
    "\n",
    "### Indexing and Slicing\n",
    "* Indexing: Each element in a list has a position, or index, starting from 0. You can access individual elements using square brackets [].\n",
    "* Slicing: Slicing allows you to extract a portion of a list by specifying a range of indices. The syntax is [start:end], where start is inclusive, and end is exclusive.\n",
    "    \n",
    "### Common List Methods\n",
    "* There are a lot of fundamental methods, including append(), remove(), pop(), join(), and so on.\n",
    "* Focusing on data analysis, we will learn split(), strip(), and sort()\n",
    "** split() is used to split a string into a list of substrings based on a specified delimiter\n",
    "** strip() is used to remove leading and trailing whitespace (spaces, tabs, and newline characters) from a string\n",
    "** sort() is used to sort the elements of a list in ascending order (from the lowest to the highest value)\n",
    "\n",
    "Let's learn from the example!"
   ]
  },
  {
   "cell_type": "code",
   "execution_count": null,
   "id": "9e51dc33",
   "metadata": {},
   "outputs": [],
   "source": [
    "bridgerton_text = \"Daphne Bridgerton, Lady Whistledown, Lady Danbury, Simon Basset, Eloise Bridgerton, Penelope Featherington, Benedict Bridgerton, Lady Violet Bridgerton, Edwina Sharma, Colin Bridgerton, Francesca Bridgerton, Brimsley\"\n",
    "\n",
    "\n",
    "\n",
    "\n"
   ]
  },
  {
   "cell_type": "code",
   "execution_count": null,
   "id": "10e2fbc2",
   "metadata": {},
   "outputs": [],
   "source": [
    "# Split the 'bridgerton_text' string into a list using \", \" (comma and space) as the separator.\n",
    "bridgerton_characters = bridgerton_text.split(\", \")\n",
    "\n",
    "# Calculate and print the number of characters in the 'bridgerton_characters' list.\n",
    "\n",
    "\n",
    "\n",
    "\n"
   ]
  },
  {
   "cell_type": "code",
   "execution_count": null,
   "id": "d6cdd0be",
   "metadata": {},
   "outputs": [],
   "source": [
    "# Print the first three characters from the list.\n",
    "print(\"Up to 3 characters:\")\n",
    "\n",
    "\n",
    "\n",
    "\n",
    "\n",
    "# Filter the list to include only names containing the word \"Lady.\"\n",
    "print(\"Ladies:\")\n",
    "\n",
    "\n",
    "\n",
    "\n",
    "\n",
    "# Sort the list alphabetically.\n",
    "print(\"Alphabetically ordered:\")\n",
    "\n",
    "\n",
    "\n",
    "\n"
   ]
  },
  {
   "cell_type": "markdown",
   "id": "27fbb87e",
   "metadata": {},
   "source": [
    "### Exercise 5. Print out the avengers with \"Man\" in their nicknames."
   ]
  },
  {
   "cell_type": "code",
   "execution_count": null,
   "id": "50f22277",
   "metadata": {},
   "outputs": [],
   "source": [
    "avengers = [\"Hulk\", \"Captain America\", \"Iron Man\", \"Thor\", \"Black Panther\", \"Spider-Man\", \"Natasha Romanoff\"]\n",
    "\n",
    "\n",
    "\n",
    "\n",
    "\n",
    "\n"
   ]
  }
 ],
 "metadata": {
  "kernelspec": {
   "display_name": "Python 3",
   "language": "python",
   "name": "python3"
  },
  "language_info": {
   "codemirror_mode": {
    "name": "ipython",
    "version": 3
   },
   "file_extension": ".py",
   "mimetype": "text/x-python",
   "name": "python",
   "nbconvert_exporter": "python",
   "pygments_lexer": "ipython3",
   "version": "3.7.7"
  }
 },
 "nbformat": 4,
 "nbformat_minor": 5
}
