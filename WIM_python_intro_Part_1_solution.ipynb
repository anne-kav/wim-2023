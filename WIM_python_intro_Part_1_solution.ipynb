{
 "cells": [
  {
   "cell_type": "markdown",
   "id": "bff13f08",
   "metadata": {},
   "source": [
    "# WIM Python Workshop: Introduction to Python\n",
    "\n",
    "* Date: Oct 20th, 2023\n",
    "* Instructor: Eehyun Kim (eehkim@iu.edu), Anne Kavalerchik (akavaler@iu.edu)\n",
    "\n",
    "## 1. Writing Your First Python Program\n",
    "\n",
    "Let's start by creating a simple \"Hello, World!\" program! You can run the codes in a cell by clicking \"|> Run\", \"Command + Enter/Return\" (Mac), or \"Ctrl + Enter\" (Window).\n"
   ]
  },
  {
   "cell_type": "code",
   "execution_count": null,
   "id": "c98eb9d3",
   "metadata": {},
   "outputs": [],
   "source": [
    "print(\"Hello, World!\")"
   ]
  },
  {
   "cell_type": "markdown",
   "id": "ccb537c5",
   "metadata": {},
   "source": [
    "### Exercise 1. Print your name."
   ]
  },
  {
   "cell_type": "code",
   "execution_count": null,
   "id": "6cbc67a5",
   "metadata": {},
   "outputs": [],
   "source": [
    "# Your answer comes here:\n",
    "print(\"Eehyun Kim\")"
   ]
  },
  {
   "cell_type": "markdown",
   "id": "c9793b7b",
   "metadata": {},
   "source": [
    "## 2. Variables and Data Types\n",
    "Python supports various data types, including:\n",
    "\n",
    "* int: Integers (e.g., 5, -10)\n",
    "* float: Floating-point numbers (e.g., 3.14, -0.5)\n",
    "* str: Strings (e.g., \"Hello, World!\")\n",
    "* bool: Booleans (True or False)"
   ]
  },
  {
   "cell_type": "code",
   "execution_count": null,
   "id": "e23585c9",
   "metadata": {},
   "outputs": [],
   "source": [
    "a = 398502\n",
    "b = \"I need more coffee.\"\n",
    "c = True\n",
    "d = 50.4972\n",
    "\n",
    "#print(type(a))\n",
    "#print(type(b))\n",
    "#print(type(c))"
   ]
  },
  {
   "cell_type": "markdown",
   "id": "5900061c",
   "metadata": {},
   "source": [
    "### Exercise 2. What are their types? Explore more."
   ]
  },
  {
   "cell_type": "code",
   "execution_count": null,
   "id": "d1cd58cc",
   "metadata": {
    "scrolled": false
   },
   "outputs": [],
   "source": [
    "a = int(\"10.0\")"
   ]
  },
  {
   "cell_type": "markdown",
   "id": "615a233b",
   "metadata": {},
   "source": [
    "\"Oh, ValueError: invalid literal for int() with base 10: '10.0' happens! How can I deal with it?\""
   ]
  },
  {
   "cell_type": "code",
   "execution_count": null,
   "id": "b4123a65",
   "metadata": {
    "scrolled": true
   },
   "outputs": [],
   "source": [
    "a = int(float(\"10.0\"))\n",
    "print(int(float(\"10.5\"))) # enforcing float into integer\n",
    "\n",
    "c = str(10)\n",
    "d = None\n",
    "\n",
    "print(type(a))\n",
    "print(type(c))\n",
    "print(type(d))"
   ]
  },
  {
   "cell_type": "markdown",
   "id": "7341c5eb",
   "metadata": {},
   "source": [
    "## 3. Basic Operations: Utilizing data types\n",
    "Python allows you to perform various operations, such as arithmetic, string manipulation, and comparisons.\n",
    "\n",
    "* Arithmetic: result = 5 + 4 + 2.4, 8 * 7, 8 % 5, 8 // 5\n",
    "* String concatenation: full_name = \"Taylor\" + \" \" + \"Swift\"\n",
    "* Comparison: 1990 == 1995, 1995 >= 2006, \"Taylor\" == \"taylor\""
   ]
  },
  {
   "cell_type": "code",
   "execution_count": null,
   "id": "c81446b5",
   "metadata": {
    "scrolled": true
   },
   "outputs": [],
   "source": [
    "# Arithmetic\n",
    "print(\"5 + 4 + 2.4 =\", 5 + 4 + 2.4)\n",
    "print(\"8 * 7 =\", 8 * 7)\n",
    "print(\"8 * 7 =\", 8 * 7)\n",
    "print(\"8 % 7 =\", 8 % 5)\n",
    "print(\"8 // 7 =\", 8 // 5)\n",
    "print(\"\")\n",
    "\n",
    "# Comparison\n",
    "print(\"Taylor\" + \" \" + \"Swift\")\n",
    "print(\"1990 == 1995:\", 1990 == 1995)\n",
    "print(\"\\\"Taylor\\\" == \\\"taylor\\\":\", \"Taylor\" == \"taylor\")\n",
    "print(\"\\\"Bois\\\" in \\\"W. E. B Du Bois\\\":\", \"Bois\" in \"W. E. B Du Bois\")"
   ]
  },
  {
   "cell_type": "markdown",
   "id": "7672111b",
   "metadata": {},
   "source": [
    "## 4. More data types\n",
    "\n",
    "### List\n",
    "Lists are ordered collections of items enclosed in square brackets [ ]. They can hold elements of different data types.\n",
    "\n",
    "* fruits = [\"apple\", \"banana\", \"cherry\"]\n",
    "* row = [\"Amy\", 25, \"student\", \"US\", 5.5]\n",
    "\n",
    "### Dictionary (dict)\n",
    "\n",
    "Dictionaries are collections of key-value pairs enclosed in curly braces { }. They are used for mapping keys to values and are unordered.\n",
    "\n",
    "* respondent = {\"name\": \"Amy\", \"age\": 25, \"job\": \"student\", \"citizenship\": \"US\", \"height\": 5.5}"
   ]
  },
  {
   "cell_type": "code",
   "execution_count": null,
   "id": "6c037f5b",
   "metadata": {},
   "outputs": [],
   "source": [
    "fruits = [\"apple\", \"banana\", \"cherry\"]\n",
    "row = [\"Amy\", 25, \"student\", \"US\", 5.5]\n",
    "respondent = {\"name\": \"Amy\", \"age\": 25, \"job\": \"student\", \"citizenship\": \"US\", \"height\": 5.5}\n",
    "\n",
    "print(type(fruits))\n",
    "print(row)\n",
    "print(respondent)"
   ]
  },
  {
   "cell_type": "markdown",
   "id": "660d1392",
   "metadata": {},
   "source": [
    "## 5. Conditional Statements\n",
    "You can use if, elif, and else statements for decision-making. Don't forget to put ':' to indicate the end of the statement."
   ]
  },
  {
   "cell_type": "markdown",
   "id": "f27aa5cb",
   "metadata": {},
   "source": [
    "### Tip. Indentation (four spaces, or tab)\n",
    "indentation is a fundamental aspect of the language's syntax and is used to define blocks of code. Python relies on consistent and meaningful indentation to indicate the grouping and nesting of statements within functions, loops, conditionals, and other control structures. If you don't keep the rule, \"IndentationError: unexpected indent\" happens."
   ]
  },
  {
   "cell_type": "code",
   "execution_count": null,
   "id": "2137a68a",
   "metadata": {},
   "outputs": [],
   "source": [
    "text = \"Indentation matters!\"\n",
    "    print(text)\n"
   ]
  },
  {
   "cell_type": "code",
   "execution_count": null,
   "id": "0fadd564",
   "metadata": {},
   "outputs": [],
   "source": [
    "# Let's move forward to Conditional Statements.\n",
    "\n",
    "score = 85\n",
    "\n",
    "if score > 90:\n",
    "    print(\"You got A grade.\")\n",
    "elif score > 80:\n",
    "    print(\"You got B grade.\")\n",
    "else:\n",
    "    print(\"You got C grade.\")"
   ]
  },
  {
   "cell_type": "markdown",
   "id": "9b723b11",
   "metadata": {},
   "source": [
    "### Another example: Drinking age"
   ]
  },
  {
   "cell_type": "code",
   "execution_count": null,
   "id": "a8ca34cf",
   "metadata": {},
   "outputs": [],
   "source": [
    "user_age = int(input(\"Enter your age: \"))\n",
    "\n",
    "# Define the legal drinking age in Indiana\n",
    "legal_drinking_age = 21\n",
    "\n",
    "# Check if the user is of legal drinking age\n",
    "if user_age >= legal_drinking_age:\n",
    "    print(\"You are of legal drinking age in Indiana. Enjoy responsibly!\")\n",
    "else:\n",
    "    print(\"Sorry, you are not of legal drinking age in Indiana. Wait a few more years!\")"
   ]
  },
  {
   "cell_type": "markdown",
   "id": "95ae5096",
   "metadata": {},
   "source": [
    "### Exercise 3: Rollercoaster Height Restriction\n",
    "We'll write a Python program that checks if a person meets the height requirement to ride a rollercoaster. Replace the line [] to complete the code."
   ]
  },
  {
   "cell_type": "code",
   "execution_count": null,
   "id": "ebff6faa",
   "metadata": {},
   "outputs": [],
   "source": [
    "# Get the user's height as input (in feet)\n",
    "user_height = float(input(\"Enter your height (in feet): \"))\n",
    "\n",
    "# Define the minimum height requirement for the rollercoaster\n",
    "min_height_requirement = 4.0\n",
    "\n",
    "# Check if the user meets the height requirement\n",
    "if user_height >= min_height_requirement:\n",
    "    print(\"You meet the height requirement to ride the rollercoaster. Enjoy the thrill!\")\n",
    "else:\n",
    "    print(\"Sorry, you do not meet the height requirement to ride the rollercoaster. You must be at least 4 feet tall.\")"
   ]
  },
  {
   "cell_type": "markdown",
   "id": "4882a479",
   "metadata": {},
   "source": [
    "## 6. Loops (for)\n",
    "A loop is a concept that allows you to execute a block of code repeatedly. Python supports for and while loops for repetition, but we will focus on 'for', which is commonly used to iterate over sequences like lists, strings, and ranges.\n"
   ]
  },
  {
   "cell_type": "code",
   "execution_count": null,
   "id": "1173e873",
   "metadata": {},
   "outputs": [],
   "source": [
    "afc_teams_north = [\"Baltimore Ravens, Cincinnati Bengals, Cleveland Browns, Pittsburgh Steelers\"]\n",
    "for team in afc_teams_north:\n",
    "    print(team)\n",
    "    \n",
    "for a in afc_teams_north:\n",
    "    print(a)\n",
    "    \n",
    "# the naming of the element (team or a) doesn't matter for loops"
   ]
  },
  {
   "cell_type": "markdown",
   "id": "bd9af74d",
   "metadata": {},
   "source": [
    "### Example:\n",
    "How can you iterate from 1 to 10?\n",
    "***\n",
    "****Number 1.****\n",
    "\n",
    "    for a in [1, 2, 3, 4, 5, 6, 7, 8, 9, 10]:\n",
    "        print(a)\n",
    "\n",
    "****Number 2.****\n",
    "\n",
    "    for a in range(1, 10+1): # start=1, end=11; start <= number < end\n",
    "        print(a)\n",
    "\n",
    "****Number 3.****\n",
    "\n",
    "    for a in range(10): # start=0, end=10; start <= number < end\n",
    "        print(a+1)\n",
    "        \n",
    "****Number 4.****\n",
    "[Advanced] List comprehension: \n",
    "\n",
    "    [a+1 for a in range(10)]"
   ]
  },
  {
   "cell_type": "code",
   "execution_count": null,
   "id": "86d6fa9f",
   "metadata": {},
   "outputs": [],
   "source": [
    "for a in range(1, 10+1):\n",
    "    print(a)"
   ]
  },
  {
   "cell_type": "code",
   "execution_count": null,
   "id": "845dd59e",
   "metadata": {},
   "outputs": [],
   "source": [
    "for a in range(10): # start=0, end=10; start <= number < end\n",
    "    print(a+1)"
   ]
  },
  {
   "cell_type": "code",
   "execution_count": null,
   "id": "b569f2cc",
   "metadata": {},
   "outputs": [],
   "source": [
    "[a+1 for a in range(10)]"
   ]
  },
  {
   "cell_type": "code",
   "execution_count": null,
   "id": "e3d301ed",
   "metadata": {},
   "outputs": [],
   "source": [
    "print(\"Printing every third number from a list of numbers:\")\n",
    "for a in range(0, 10, 3): # start=0, end=10, incrementing the index by 3\n",
    "    print(a)\n",
    "\n",
    "print(\"\\nPrinting every fourth number from a list of numbers:\")\n",
    "for b in range(2, 12, 4): # start=2, end=12, incrementing the index by 4\n",
    "    print(b)"
   ]
  },
  {
   "cell_type": "markdown",
   "id": "55946cb6",
   "metadata": {},
   "source": [
    "### Exercise 4: Defining Your Favorite Movies and Printing Them\n",
    "We'll list your favorite movies (at least three) and print them one by one."
   ]
  },
  {
   "cell_type": "code",
   "execution_count": null,
   "id": "322e6b5c",
   "metadata": {},
   "outputs": [],
   "source": [
    "#favorite_movies = [\"The Shawshank Redemption\", \"The Godfather\"]\n",
    "favorite_movies = [\"The Shawshank Redemption\", \"The Godfather\"]\n",
    "\n",
    "print(\"My Favorite Movies:\")\n",
    "for movie in favorite_movies:\n",
    "    print(movie)"
   ]
  },
  {
   "cell_type": "markdown",
   "id": "15bf40a0",
   "metadata": {},
   "source": [
    "## 7. Further Exploration: List manipuation\n",
    "\n",
    "### List Length\n",
    "The length of a list is the number of elements it contains. To find the length of a list, you can use the len() function.\n",
    "* length = len(my_list)\n",
    "\n",
    "### Indexing and Slicing\n",
    "* Indexing: Each element in a list has a position, or index, starting from 0. You can access individual elements using square brackets [].\n",
    "* Slicing: Slicing allows you to extract a portion of a list by specifying a range of indices. The syntax is [start:end], where start is inclusive, and end is exclusive.\n",
    "    \n",
    "### Common List Methods\n",
    "* There are a lot of fundamental methods, including append(), remove(), pop(), join(), and so on.\n",
    "* Focusing on data analysis, we will learn split(), strip(), and sort()\n",
    "** split() is used to split a string into a list of substrings based on a specified delimiter\n",
    "** strip() is used to remove leading and trailing whitespace (spaces, tabs, and newline characters) from a string\n",
    "** sort() is used to sort the elements of a list in ascending order (from the lowest to the highest value)\n",
    "\n",
    "Let's learn from the example!"
   ]
  },
  {
   "cell_type": "code",
   "execution_count": null,
   "id": "2a1b4cad",
   "metadata": {},
   "outputs": [],
   "source": [
    "bridgerton_text = \"Daphne Bridgerton, Lady Whistledown, Lady Danbury, Simon Basset, Eloise Bridgerton, Penelope Featherington, Benedict Bridgerton, Lady Violet Bridgerton, Edwina Sharma, Colin Bridgerton, Francesca Bridgerton, Brimsley\"\n",
    "\n",
    "print(\"Bridgerton Main Characters:\", bridgerton_text)"
   ]
  },
  {
   "cell_type": "code",
   "execution_count": null,
   "id": "35ec092c",
   "metadata": {},
   "outputs": [],
   "source": [
    "# Split the 'bridgerton_text' string into a list using \", \" (comma and space) as the separator.\n",
    "bridgerton_characters = bridgerton_text.split(\", \")\n",
    "\n",
    "# Calculate and print the number of characters in the 'bridgerton_characters' list.\n",
    "print(\"Number of Characters:\", len(bridgerton_characters))"
   ]
  },
  {
   "cell_type": "code",
   "execution_count": null,
   "id": "084e7726",
   "metadata": {},
   "outputs": [],
   "source": [
    "# Print the first three characters from the list.\n",
    "print(\"Up to 3 characters:\", bridgerton_characters[0:3])\n",
    "print(\"\")\n",
    "\n",
    "# Filter the list to include only names containing the word \"Lady.\"\n",
    "print(\"Ladies:\")\n",
    "for name in bridgerton_characters:\n",
    "    if \"Lady\" in name:\n",
    "        print(name)\n",
    "print(\"\")\n",
    "\n",
    "bridgerton_characters.sort()\n",
    "print(\"Alphabetically ordered:\", bridgerton_characters)"
   ]
  },
  {
   "cell_type": "markdown",
   "id": "ea1ab225",
   "metadata": {},
   "source": [
    "### Exercise 5. Print out the avengers with \"Man\" in their nicknames."
   ]
  },
  {
   "cell_type": "code",
   "execution_count": null,
   "id": "b28df60b",
   "metadata": {},
   "outputs": [],
   "source": [
    "avengers = [\"Hulk\", \"Captain America\", \"Iron Man\", \"Thor\", \"Black Panther\", \"Spider-Man\", \"Natasha Romanoff\"]\n",
    "\n",
    "for avenger in avengers:\n",
    "    if \"Man\" in avenger:\n",
    "        print(avenger)"
   ]
  }
 ],
 "metadata": {
  "kernelspec": {
   "display_name": "Python 3",
   "language": "python",
   "name": "python3"
  },
  "language_info": {
   "codemirror_mode": {
    "name": "ipython",
    "version": 3
   },
   "file_extension": ".py",
   "mimetype": "text/x-python",
   "name": "python",
   "nbconvert_exporter": "python",
   "pygments_lexer": "ipython3",
   "version": "3.7.7"
  }
 },
 "nbformat": 4,
 "nbformat_minor": 5
}
