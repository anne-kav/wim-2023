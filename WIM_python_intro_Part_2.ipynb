{
 "cells": [
  {
   "cell_type": "markdown",
   "id": "17b48672",
   "metadata": {},
   "source": [
    "# WIM Python Workshop: Introduction to Python\n",
    "## Part II: Organizing Data\n",
    "* Date: Oct 20th, 2023\n",
    "* Instructors\n",
    ": Eehyun Kim (eehkim@iu.edu), Anne Kavalerchik (akavaler@iu.edu)"
   ]
  },
  {
   "cell_type": "markdown",
   "id": "1dbeb63a",
   "metadata": {},
   "source": [
    "First, we load the necessary packages"
   ]
  },
  {
   "cell_type": "code",
   "execution_count": null,
   "id": "27ecfec4",
   "metadata": {},
   "outputs": [],
   "source": [
    "# load the necessary packages\n",
    "import os\n",
    "import json\n",
    "import pandas as pd\n",
    "import pickle #Python specific module to serialize data"
   ]
  },
  {
   "cell_type": "markdown",
   "id": "3741ee3f",
   "metadata": {},
   "source": [
    "Ordinarily, you might have to install packages like `pandas`, but we have preloaded this environment so that it is already installed, and only needs to be loaded.\n",
    "\n",
    "To install `pandas` (or other packages) on your local machine:\n",
    "\n",
    "Go to terminal/control panel\n",
    "type `pip3 install pandas` and press enter"
   ]
  },
  {
   "cell_type": "markdown",
   "id": "94494395",
   "metadata": {},
   "source": [
    "## Load the data\n",
   ]
  },
  {
   "cell_type": "code",
   "execution_count": null,
   "id": "ac1ffc17",
   "metadata": {},
   "outputs": [],
   "source": [
    "# load the dataframe of members of the House of Representatives\n",
    "# we will use pandas read_csv\n",
    "congress_df = pd.read_csv('congress_house.csv')"
   ]
  },
  {
   "cell_type": "code",
   "execution_count": null,
   "id": "89918dcf",
   "metadata": {},
   "outputs": [],
   "source": [
    "# load the bills \"pickle\" file\n",
    "# pickle is a python module for storing data\n",
    "# we will open it with the following command.\n",
    "# \"rb\" tells python we are opening it for reading only in a binary format\n",
    "with open('ProPublica_Members-Bills.pkl', \"rb\") as file:\n",
    "    bills_1000 = pickle.load(file)"
   ]
  },
  {
   "cell_type": "markdown",
   "id": "47540c8a",
   "metadata": {},
   "source": [
    "1. Explore the congress dataset using pandas\n",
    "\n",
    "`pandas` is an extremely powerful python data analysis package\n",
    "\n",
    "We will only use a few of its functionalities today\n"
   ]
  },
  {
   "cell_type": "code",
   "execution_count": null,
   "id": "48b43a7b",
   "metadata": {},
   "outputs": [],
   "source": [
    "# using pandas methods\n",
    "print(congress_df.info())  # overview of the dataframe, missingness, and types of variables\n",
    "print(congress_df.describe())  # describes basic summary statistics for each column"
   ]
  },
  {
   "cell_type": "code",
   "execution_count": null,
   "id": "3e462d92",
   "metadata": {},
   "outputs": [],
   "source": [
    "print(congress_df.head(3))  # returns first 3 rows\n",
    "print(congress_df.tail(3))  # returns last 3 rows"
   ]
  },
  {
   "cell_type": "code",
   "execution_count": null,
   "id": "109dc121",
   "metadata": {},
   "outputs": [],
   "source": [
    "print(congress_df['id'])  # returns \"id\" column as a pandas series\n",
    "print(congress_df[['id']])  # returns \"id\" column as a pandas dataframe"
   ]
  },
  {
   "cell_type": "code",
   "execution_count": null,
   "id": "38841d1c",
   "metadata": {},
   "outputs": [],
   "source": [
    "print(congress_df.iloc[37:53])  # returns rows 37-53"
   ]
  },
  {
   "cell_type": "code",
   "execution_count": null,
   "id": "a20a3d28",
   "metadata": {},
   "outputs": [],
   "source": []
  },
  {
   "cell_type": "code",
   "execution_count": null,
   "id": "9c0bf2f0",
   "metadata": {},
   "outputs": [],
   "source": []
  },
  {
   "cell_type": "code",
   "execution_count": null,
   "id": "5183e6f4",
   "metadata": {},
   "outputs": [],
   "source": []
  },
  {
   "cell_type": "markdown",
   "id": "2ae31de2",
   "metadata": {},
   "source": [
    "## Explore the bills dataset using basics to from part 1 to call values\n",
    "\n",
    "`bills_1000` is the most recent 1000 health bills, and it is extremely nested"
   ]
  },
  {
   "cell_type": "code",
   "execution_count": null,
   "id": "578f4068",
   "metadata": {},
   "outputs": [],
   "source": [
    "# What is the length?\n"
   ]
  },
  {
   "cell_type": "code",
   "execution_count": null,
   "id": "045b92b3",
   "metadata": {},
   "outputs": [],
   "source": [
    "# Find out the type\n"
   ]
  },
  {
   "cell_type": "code",
   "execution_count": null,
   "id": "80e1685c",
   "metadata": {},
   "outputs": [],
   "source": [
    "# Print the keys of the dictionary\n"
   ]
  },
  {
   "cell_type": "code",
   "execution_count": null,
   "id": "ff73058b",
   "metadata": {},
   "outputs": [],
   "source": [
    "# Find out the type of one of the nested dictionaries\n"
   ]
  },
  {
   "cell_type": "code",
   "execution_count": null,
   "id": "c90a7df6",
   "metadata": {},
   "outputs": [],
   "source": [
    "# Print the value for one of the nested dictionaries of bills_1000 \n"
   ]
  },
  {
   "cell_type": "code",
   "execution_count": null,
   "id": "6791a480",
   "metadata": {},
   "outputs": [],
   "source": [
    "# Print the keys of one of the nested dictionaries\n"
   ]
  },
  {
   "cell_type": "markdown",
   "id": "3040538e",
   "metadata": {},
   "source": [
    "It may be helpful to look at an entry visually to understand the nestedness."
   ]
  },
  {
   "cell_type": "code",
   "execution_count": null,
   "id": "b00cc4d4",
   "metadata": {},
   "outputs": [],
   "source": [
    "bills_1000[0]"
   ]
  },
  {
   "cell_type": "markdown",
   "id": "9e4459fe",
   "metadata": {},
   "source": [
    "Let's practice calling specific values of this dictionary, of the first 20 bills. (aka, `bills_1000[0]`)"
   ]
  },
  {
   "cell_type": "code",
   "execution_count": null,
   "id": "8eb2f757",
   "metadata": {},
   "outputs": [],
   "source": [
    "# explore \n",
    "# print out the values of all the keys\n",
    "# print out the values \n",
    "print(bills_1000[0]['status'])\n",
    "\n",
    "print(bills_1000[0]['copyright'])\n",
    "print(bills_1000[0]['offset'])\n",
    "print(bills_1000[0]['subject'])\n",
    "print(bills_1000[0]['results'])\n"
   ]
  },
  {
   "cell_type": "markdown",
   "id": "ec4866ea",
   "metadata": {},
   "source": [
    "Print out specific information, like a bill's id, name, name of sponsor"
   ]
  },
  {
   "cell_type": "code",
   "execution_count": null,
   "id": "39327633",
   "metadata": {},
   "outputs": [],
   "source": [
    "bills_1000[0]['results'][0].keys()"
   ]
  },
  {
   "cell_type": "code",
   "execution_count": null,
   "id": "d8827b54",
   "metadata": {},
   "outputs": [],
   "source": [
    "bills_1000[0]['results'][0]['title']"
   ]
  },
  {
   "cell_type": "code",
   "execution_count": null,
   "id": "9140a77e",
   "metadata": {},
   "outputs": [],
   "source": []
  },
  {
   "cell_type": "markdown",
   "id": "4366d7b5",
   "metadata": {},
   "source": [
    "Note: What happens if we call a value that does not exist?\n",
    "\n",
    "`KeyError` - when a dictionary key does not exist\n",
    "\n",
    "`IndexError` - when a sequence subscript is out of range"
   ]
  },
  {
   "cell_type": "code",
   "execution_count": null,
   "id": "d8d61232",
   "metadata": {},
   "outputs": [],
   "source": [
    "# \n",
    "\n",
    "\n"
   ]
  },
  {
   "cell_type": "markdown",
   "id": "7e93c6d4",
   "metadata": {},
   "source": [
    "Use nested `for` loops to navigate `bills_1000`\n",
    "\n",
    "For loops are not always the most elegant solution, but they are very useful"
   ]
  },
  {
   "cell_type": "code",
   "execution_count": null,
   "id": "76cbbbcc",
   "metadata": {},
   "outputs": [],
   "source": [
    "# experiment with for loops here\n",
    "\n",
    "\n",
    "\n"
   ]
  },
  {
   "cell_type": "markdown",
   "id": "bf13c2cc",
   "metadata": {},
   "source": [
    "Note: Sometimes your code can get too nested.\n",
    "\n",
    "There are several ways around this: list comprehension, functions, and more"
   ]
  },
  {
   "cell_type": "code",
   "execution_count": null,
   "id": "41ac074f",
   "metadata": {},
   "outputs": [],
   "source": [
    "#\n",
    "\n",
    "\n",
    "\n",
    "\n",
    "\n"
   ]
  },
  {
   "cell_type": "markdown",
   "id": "658dc409",
   "metadata": {},
   "source": [
    "4. Count the bills passed by each politician\n",
    "What we really want,  is to combine `bills_1000` with `congress_df` in some useful way\n",
    "\n",
    "`id` in `congress_df` is linked to `sponsor_id` in `bills_1000`\n",
    "\n",
    "We will do this with nested loops again!"
   ]
  },
  {
   "cell_type": "code",
   "execution_count": null,
   "id": "ad0ef547",
   "metadata": {},
   "outputs": [],
   "source": [
    "# initialize a dictionary with every key a congressperson's id,\n",
    "# and every value = 0\n",
    "\n",
    "\n",
    "\n",
    "\n",
    "\n",
    "\n"
   ]
  },
  {
   "cell_type": "code",
   "execution_count": null,
   "id": "eafeb078",
   "metadata": {},
   "outputs": [],
   "source": [
    "# add a try...except clause\n",
    "\n",
    "\n",
    "\n",
    "\n",
    "            "
   ]
  },
  {
   "cell_type": "markdown",
   "id": "1cbdcd1a",
   "metadata": {},
   "source": [
    "## Use pandas to combine the two data sets\n",
    "\n",
    "Remember, `id` in the congress data, corresponds to `sponsor_id` in the bills data"
   ]
  },
  {
   "cell_type": "code",
   "execution_count": null,
   "id": "0ca61c66",
   "metadata": {},
   "outputs": [],
   "source": []
  }
 ],
 "metadata": {
  "kernelspec": {
   "display_name": "Python 3",
   "language": "python",
   "name": "python3"
  },
  "language_info": {
   "codemirror_mode": {
    "name": "ipython",
    "version": 3
   },
   "file_extension": ".py",
   "mimetype": "text/x-python",
   "name": "python",
   "nbconvert_exporter": "python",
   "pygments_lexer": "ipython3",
   "version": "3.7.7"
  }
 },
 "nbformat": 4,
 "nbformat_minor": 5
}
