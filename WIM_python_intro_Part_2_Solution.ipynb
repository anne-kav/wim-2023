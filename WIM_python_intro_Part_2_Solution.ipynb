{
 "cells": [
  {
   "cell_type": "markdown",
   "id": "05eefc8b",
   "metadata": {},
   "source": [
    "# WIM Python Workshop: Introduction to Python\n",
    "## Part II: Organizing Data\n",
    "* Date: Oct 20th, 2023\n",
    "* Instructors: Eehyun Kim (eehkim@iu.edu), Anne Kavalerchik (akavaler@iu.edu)"
   ]
  },
  {
   "cell_type": "markdown",
   "id": "3a7f3dc9",
   "metadata": {},
   "source": [
    "First, we load the necessary packages"
   ]
  },
  {
   "cell_type": "code",
   "execution_count": null,
   "id": "fe542bd7",
   "metadata": {},
   "outputs": [],
   "source": [
    "# load the necessary packages\n",
    "import os\n",
    "import json\n",
    "import pandas as pd  # data analysis package\n",
    "import pickle  # Python specific module to serialize data"
   ]
  },
  {
   "cell_type": "markdown",
   "id": "542afcf7",
   "metadata": {},
   "source": [
    "Ordinarily, you might have to install packages like `pandas`, but we have preloaded this environment so that it is already installed, and only needs to be loaded.\n",
    "\n",
    "To install `pandas` (or other packages) on your local machine:\n",
    "\n",
    "Go to terminal/control panel\n",
    "type `pip3 install pandas` and press enter"
   ]
  },
  {
   "cell_type": "markdown",
   "id": "d8d222b1",
   "metadata": {},
   "source": [
    "## Load the data\n",
    "\n",
    "In Python, we can work with multiple datasets at the same time\n",
    "\n",
    "Change `yourlocation` with the location where the files `congress_house.csv` and `ProPublica_Members-Bills.pkl` are stored"
   ]
  },
  {
   "cell_type": "code",
   "execution_count": null,
   "id": "c606499d",
   "metadata": {},
   "outputs": [],
   "source": [
    "# set the working directory\n",
    "os.chdir('yourlocation')  # add file location here\n",
    "os.listdir()"
   ]
  },
  {
   "cell_type": "code",
   "execution_count": null,
   "id": "4b3f6c59",
   "metadata": {},
   "outputs": [],
   "source": [
    "# load the dataframe of members of the House of Representatives\n",
    "# we will use pandas read_csv\n",
    "\n",
    "congress_df = pd.read_csv('congress_house.csv')\n",
    "print(congress_df.shape)  # tells you the dimensions\n",
    "congress_df  # prints out a subset of the dataframe"
   ]
  },
  {
   "cell_type": "code",
   "execution_count": null,
   "id": "f022a06c",
   "metadata": {},
   "outputs": [],
   "source": [
    "# load the bills \"pickle\" file\n",
    "# pickle is a python module for storing data\n",
    "# we will open it with the following command.\n",
    "# \"rb\" tells python we are opening it for reading only in a binary format\n",
    "with open('ProPublica_Members-Bills.pkl', \"rb\") as file:\n",
    "    bills_1000 = pickle.load(file)"
   ]
  },
  {
   "cell_type": "markdown",
   "id": "1b7c942b",
   "metadata": {},
   "source": [
    "## Explore the congress dataset using pandas\n",
    "\n",
    "`pandas` is an extremely powerful python data analysis package\n",
    "\n",
    "We will only use a few of its functionalities today\n"
   ]
  },
  {
   "cell_type": "code",
   "execution_count": null,
   "id": "ff68f35f",
   "metadata": {},
   "outputs": [],
   "source": [
    "# using pandas methods\n",
    "print(congress_df.info())  # overview of the dataframe, missingness, and types of variables\n",
    "print(congress_df.describe())  # describes basic summary statistics for each column\n",
    "\n",
    "print(congress_df.head(3))  # returns first 3 rows\n",
    "print(congress_df.tail(3))  # returns last 3 rows\n",
    "\n",
    "print(congress_df['id'])  # returns \"id\" column as a pandas series\n",
    "print(congress_df[['id']])  # returns \"id\" column as a pandas dataframe\n",
    "\n",
    "print(congress_df.iloc[37:53])  # returns rows 37-53"
   ]
  },
  {
   "cell_type": "markdown",
   "id": "97c82724",
   "metadata": {},
   "source": [
    "## Explore the bills dataset using basics to from part 1 to call values\n",
    "\n",
    "`bills_1000` is the most recent 1000 health bills, and it is extremely nested"
   ]
  },
  {
   "cell_type": "code",
   "execution_count": null,
   "id": "f6392258",
   "metadata": {},
   "outputs": [],
   "source": [
    "# explore bills dataset\n",
    "# bills_1000 is basically a list of 50 dictionaries\n",
    "print(len(bills_1000))  # Tells us the length - 50\n",
    "\n",
    "print(type(bills_1000))  # DefaultDict - similar to a dictionary\n",
    "print(bills_1000.keys())  # Prints the keys of the dictionary\n",
    "print(type(bills_1000[0]))  # Dictionary\n",
    "print(bills_1000[0])  # Prints the value for dictionary key 0 of bills_1000 \n",
    "print(bills_1000[0].keys())  # Prints the keys of the dictionary\n"
   ]
  },
  {
   "cell_type": "markdown",
   "id": "0ece7357",
   "metadata": {},
   "source": [
    "It may be helpful to look at an entry visually to understand the nestedness."
   ]
  },
  {
   "cell_type": "code",
   "execution_count": null,
   "id": "31083393",
   "metadata": {},
   "outputs": [],
   "source": [
    "bills_1000[0]"
   ]
  },
  {
   "cell_type": "markdown",
   "id": "6896d34e",
   "metadata": {},
   "source": [
    "So, `bills_1000[0]` is a dictionary, where the value of the key `results` is a list of dictionaries for every bill, and every dictionary in that list is a key-value pair, and each of those key-value pairs gives some descriptive detail about the bill."
   ]
  },
  {
   "cell_type": "markdown",
   "id": "42c7675b",
   "metadata": {},
   "source": [
    "Let's practice calling specific values of this dictionary of the first 20 bills"
   ]
  },
  {
   "cell_type": "code",
   "execution_count": null,
   "id": "7c9b0940",
   "metadata": {},
   "outputs": [],
   "source": [
    "# let's practice calling specific values of these first 20 bills\n",
    "# print out the values \n",
    "print(bills_1000[0]['status'])\n",
    "print(bills_1000[0]['copyright'])\n",
    "print(bills_1000[0]['offset'])\n",
    "print(bills_1000[0]['subject'])\n",
    "print(bills_1000[0]['results'])"
   ]
  },
  {
   "cell_type": "code",
   "execution_count": null,
   "id": "d8f1a6e2",
   "metadata": {},
   "outputs": [],
   "source": [
    "print(len(bills_1000[0]['results']))  # length is 20 - 20 bills\n",
    "print(bills_1000[0]['results'][0])  # the first bill\n",
    "print(type(bills_1000[0]['results'][0]))  # dictionary"
   ]
  },
  {
   "cell_type": "code",
   "execution_count": null,
   "id": "f8f3f406",
   "metadata": {},
   "outputs": [],
   "source": [
    "print(bills_1000[0]['results'][0]['bill_id'])  # bill id\n",
    "print(bills_1000[0]['results'][0]['title'])  # title\n",
    "print(bills_1000[0]['results'][0]['sponsor_id'])  # sponsor id"
   ]
  },
  {
   "cell_type": "code",
   "execution_count": null,
   "id": "c0bcb954",
   "metadata": {},
   "outputs": [],
   "source": [
    "print(bills_1000[43]['results'][15]['bill_id'])\n",
    "print(bills_1000[42]['results'][9]['sponsor_name'])"
   ]
  },
  {
   "cell_type": "markdown",
   "id": "3b29f59b",
   "metadata": {},
   "source": [
    "Note: What happens if we call a value that does not exist?\n",
    "\n",
    "`KeyError` - when a dictionary key does not exist\n",
    "\n",
    "`IndexError` - when a sequence subscript is out of range"
   ]
  },
  {
   "cell_type": "code",
   "execution_count": null,
   "id": "5ab99fff",
   "metadata": {},
   "outputs": [],
   "source": [
    "print(bills_1000[50]['results'][0]['sponsor_name'])  # Key Error"
   ]
  },
  {
   "cell_type": "code",
   "execution_count": null,
   "id": "6032e93c",
   "metadata": {},
   "outputs": [],
   "source": [
    "print(bills_1000[49]['results'][20]['sponsor_name'])  # IndexError "
   ]
  },
  {
   "cell_type": "markdown",
   "id": "ad19a60d",
   "metadata": {},
   "source": [
    "You can avoid these using a `try - except` clause:"
   ]
  },
  {
   "cell_type": "code",
   "execution_count": null,
   "id": "72392ec8",
   "metadata": {},
   "outputs": [],
   "source": [
    "try:\n",
    "    print(bills_1000[50]['results'][0]['sponsor_name'])\n",
    "except KeyError:\n",
    "    print('KeyError')\n",
    "\n",
    "try:\n",
    "    print(bills_1000[49]['results'][20]['sponsor_name'])\n",
    "except IndexError:\n",
    "    print('IndexError')\n"
   ]
  },
  {
   "cell_type": "markdown",
   "id": "bb11f784",
   "metadata": {},
   "source": [
    "Use nested `for` loops to navigate `bills_1000`\n",
    "\n",
    "For loops are not always the most elegant solution, but they are very useful"
   ]
  },
  {
   "cell_type": "code",
   "execution_count": null,
   "id": "042d9f14",
   "metadata": {},
   "outputs": [],
   "source": [
    "# experiment with for loops here\n",
    "all_pols = []  # initializing an empty list\n",
    "for entry in bills_1000:  # Loop through each of the 50 dictionaries\n",
    "    results = bills_1000[entry]['results']\n",
    "\n",
    "    # Then loop thru each of the 20 dictionaries that belong to those entries\n",
    "    for result in results:\n",
    "        all_pols.append(result['sponsor_name'])  # appending the sponsor name on each bill to a list\n",
    "\n",
    "print(len(all_pols))  # 1000\n",
    "# print(all_pols)"
   ]
  },
  {
   "cell_type": "code",
   "execution_count": null,
   "id": "e5146fc7",
   "metadata": {},
   "outputs": [],
   "source": [
    "for entry in bills_1000:\n",
    "    results = bills_1000[entry]['results']\n",
    "\n",
    "all_pols = []\n",
    "for result in results:\n",
    "    all_pols.append(result['sponsor_name'])\n",
    "all_pols    "
   ]
  },
  {
   "cell_type": "markdown",
   "id": "7368ac62",
   "metadata": {},
   "source": [
    "Note: Sometimes your code can get _too_ nested. This can be bad for readability.\n",
    "\n",
    "There are several ways around this: list/dict comprehension, functions, and more"
   ]
  },
  {
   "cell_type": "markdown",
   "id": "c2b422d1",
   "metadata": {},
   "source": [
    "List comprehension:"
   ]
  },
  {
   "cell_type": "code",
   "execution_count": null,
   "id": "7e0ff5fe",
   "metadata": {},
   "outputs": [],
   "source": [
    "all_pols_1 = [bills_1000[entry]['results'] for entry in bills_1000]\n",
    "all_pols_2 = [result[i]['sponsor_name'] for result in all_pols_1 for i in range(0, 20)]\n",
    "all_pols_2==all_pols  # True"
   ]
  },
  {
   "cell_type": "markdown",
   "id": "75c582da",
   "metadata": {},
   "source": [
    "## __Count__ the number of bills passed by each politician\n",
    "\n",
    "What we really want,  is to combine `bills_1000` with `congress_df` in some useful way\n",
    "\n",
    "`id` in `congress_df` is linked to `sponsor_id` in `bills_1000`\n",
    "\n",
    "We will do this with nested loops again!"
   ]
  },
  {
   "cell_type": "code",
   "execution_count": null,
   "id": "d9835cfc",
   "metadata": {},
   "outputs": [],
   "source": [
    "# initialize a dictionary with every key a congressperson's id,\n",
    "# and every value = 0\n",
    "num_bills = {}\n",
    "for i in congress_df['id']:\n",
    "    num_bills[i] = 0\n",
    "\n",
    "# loop through the data and count every bill\n",
    "for entry in bills_1000:\n",
    "    results = bills_1000[entry]['results']\n",
    "    for result in results:\n",
    "        num_bills[result['sponsor_id']] += 1"
   ]
  },
  {
   "cell_type": "markdown",
   "id": "e84e03f9",
   "metadata": {},
   "source": [
    "Need to account for senators! Adding a `try-except` clause:"
   ]
  },
  {
   "cell_type": "code",
   "execution_count": null,
   "id": "f0e333d5",
   "metadata": {},
   "outputs": [],
   "source": [
    "# add a try...except to account for senators!\n",
    "senators = {}\n",
    "num_bills = {}\n",
    "for i in congress_df['id']:\n",
    "    num_bills[i] = 0\n",
    "\n",
    "for entry in bills_1000:\n",
    "    \n",
    "    results = bills_1000[entry]['results']\n",
    "\n",
    "    for result in results:\n",
    "        try:\n",
    "            num_bills[result['sponsor_id']] += 1\n",
    "        except KeyError:\n",
    "            senators[result['sponsor_id']] = result['sponsor_name']            "
   ]
  },
  {
   "cell_type": "markdown",
   "id": "1504bc69",
   "metadata": {},
   "source": [
    "## Use pandas to combine the two data sets\n",
    "\n",
    "Remember, `id` in the congress data, corresponds to `sponsor_id` in the bills data"
   ]
  },
  {
   "cell_type": "code",
   "execution_count": null,
   "id": "582ac172",
   "metadata": {},
   "outputs": [],
   "source": [
    "num_bills_df = pd.DataFrame(num_bills.items(),\n",
    "                            columns=['sponsor_id', 'num_bills'])"
   ]
  },
  {
   "cell_type": "markdown",
   "id": "2d02e9ad",
   "metadata": {},
   "source": [
    "Can also initialize a dataframe this way:"
   ]
  },
  {
   "cell_type": "code",
   "execution_count": null,
   "id": "c461b92a",
   "metadata": {},
   "outputs": [],
   "source": [
    "num_bills_df = pd.DataFrame.from_dict(num_bills, orient='index').reset_index()\n",
    "num_bills_df.columns = ['sponsor_id', 'num_bills']\n",
    "num_bills_df"
   ]
  },
  {
   "cell_type": "markdown",
   "id": "536f6b4c",
   "metadata": {},
   "source": [
    "Pull out the columns we're interested in:"
   ]
  },
  {
   "cell_type": "code",
   "execution_count": null,
   "id": "bb188247",
   "metadata": {},
   "outputs": [],
   "source": [
    "congress_df.columns\n",
    "cols = ['id', 'short_title', 'first_name', 'last_name', 'party', 'gender']"
   ]
  },
  {
   "cell_type": "code",
   "execution_count": null,
   "id": "78131ef0",
   "metadata": {},
   "outputs": [],
   "source": [
    "final_df = pd.merge(congress_df[cols], num_bills_df, left_on='id',\n",
    "                    right_on='sponsor_id')\n",
    "final_df"
   ]
  },
  {
   "cell_type": "code",
   "execution_count": null,
   "id": "15a97103",
   "metadata": {},
   "outputs": [],
   "source": [
    "print('Republicans:', final_df[final_df.party=='R'].num_bills.sum())\n",
    "print('Democrats:', final_df[final_df.party=='D'].num_bills.sum())"
   ]
  },
  {
   "cell_type": "code",
   "execution_count": null,
   "id": "b8eeddec",
   "metadata": {},
   "outputs": [],
   "source": [
    "final_df.sort_values('num_bills', ascending=False)"
   ]
  },
  {
   "cell_type": "code",
   "execution_count": null,
   "id": "f9431e45",
   "metadata": {},
   "outputs": [],
   "source": [
    "# export into a csv file\n",
    "final_df.to_csv('reps_with_num_bills.csv', index=False)"
   ]
  }
 ],
 "metadata": {
  "kernelspec": {
   "display_name": "Python 3",
   "language": "python",
   "name": "python3"
  },
  "language_info": {
   "codemirror_mode": {
    "name": "ipython",
    "version": 3
   },
   "file_extension": ".py",
   "mimetype": "text/x-python",
   "name": "python",
   "nbconvert_exporter": "python",
   "pygments_lexer": "ipython3",
   "version": "3.7.7"
  }
 },
 "nbformat": 4,
 "nbformat_minor": 5
}
